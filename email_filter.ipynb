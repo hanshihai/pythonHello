{
  "nbformat": 4,
  "nbformat_minor": 0,
  "metadata": {
    "colab": {
      "name": "Untitled0.ipynb",
      "version": "0.3.2",
      "provenance": [],
      "collapsed_sections": [],
      "include_colab_link": true
    },
    "kernelspec": {
      "name": "python3",
      "display_name": "Python 3"
    }
  },
  "cells": [
    {
      "cell_type": "markdown",
      "metadata": {
        "id": "view-in-github",
        "colab_type": "text"
      },
      "source": [
        "<a href=\"https://colab.research.google.com/github/hanshihai/pythonHello/blob/master/email_filter.ipynb\" target=\"_parent\"><img src=\"https://colab.research.google.com/assets/colab-badge.svg\" alt=\"Open In Colab\"/></a>"
      ]
    },
    {
      "metadata": {
        "id": "KQJp3Pyrk5zh",
        "colab_type": "code",
        "colab": {
          "base_uri": "https://localhost:8080/",
          "height": 34
        },
        "outputId": "95746827-dcbf-4baf-b0ff-7c8b4cba631e"
      },
      "cell_type": "code",
      "source": [
        "import tensorflow as tf\n",
        "from tensorflow import keras\n",
        "\n",
        "import numpy as np\n",
        "\n",
        "print(tf.__version__)"
      ],
      "execution_count": 1,
      "outputs": [
        {
          "output_type": "stream",
          "text": [
            "1.12.0\n"
          ],
          "name": "stdout"
        }
      ]
    },
    {
      "metadata": {
        "id": "S7XTC5B1lLFR",
        "colab_type": "text"
      },
      "cell_type": "markdown",
      "source": [
        "Import the tensorflow and keras packages."
      ]
    },
    {
      "metadata": {
        "id": "TVPTmJ16lihH",
        "colab_type": "code",
        "colab": {}
      },
      "cell_type": "code",
      "source": [
        "'''\n",
        "prepare email training data and test data\n",
        "'''\n",
        "\n",
        "email_collections = []\n",
        "\n",
        "word_index = email_collections.get_word_index()\n",
        "\n",
        "(train_data, train_labels), (test_data, test_labels) = email_collections.load_data(num_words=10000)"
      ],
      "execution_count": 0,
      "outputs": []
    },
    {
      "metadata": {
        "id": "2K6chKuCmz01",
        "colab_type": "text"
      },
      "cell_type": "markdown",
      "source": [
        "Load email training data (with labels) and test data , and prepare out the word index numbers. "
      ]
    },
    {
      "metadata": {
        "id": "R-Qj9GqsnGIg",
        "colab_type": "code",
        "colab": {}
      },
      "cell_type": "code",
      "source": [
        "'''\n",
        "Verify the training data and test data with word index, also try to decode it\n",
        "'''\n",
        "\n",
        "word_index = {k:(v+3) for k,v in word_index.items()}\n",
        "word_index[\"<PAD>\"] = 0\n",
        "word_index[\"<START\"] = 1\n",
        "word_index[\"<UNK>\"] = 2 # out of word scope\n",
        "word_index[\"<UNUSED\"] = 3\n",
        "\n",
        "reverse_word_index = dict([(value, key) for (key, value) in word_index.items()])\n",
        "\n",
        "def decode_review(text) :\n",
        "  return ' '.join([reverse_word_index.get(i, '?') for i in text])\n",
        "\n",
        "\n",
        "decode_review(train_data[0])"
      ],
      "execution_count": 0,
      "outputs": []
    },
    {
      "metadata": {
        "id": "t946c7BOrg1p",
        "colab_type": "text"
      },
      "cell_type": "markdown",
      "source": [
        "Enable word reverse to check the training data and test data words"
      ]
    },
    {
      "metadata": {
        "id": "y6-glpqJr1MN",
        "colab_type": "code",
        "colab": {}
      },
      "cell_type": "code",
      "source": [
        "'''\n",
        "Make the same length for the traing data and text data, by appending the <PAD>\n",
        "'''\n",
        "\n",
        "train_data = keras.preprocessing.sequence.pad_sequences(train_data,\n",
        "                                                       value=word_index[\"<PAD>\"], # 0 \n",
        "                                                       padding='post'\n",
        "                                                       maxlen=256\n",
        "                                                       )\n",
        "\n",
        "test_data = keras.preprocessing.sequence.pad_sequences(test_data,\n",
        "                                                      value=word_index[\"<PAD>\"],\n",
        "                                                      padding='post'\n",
        "                                                      maxlen=256\n",
        "                                                      )\n",
        "\n",
        "len(train_data[0]), len(test_data[0])\n",
        "\n",
        "print(train_data[0])\n",
        "decode_review(train_data[0])"
      ],
      "execution_count": 0,
      "outputs": []
    },
    {
      "metadata": {
        "id": "ndrpMV2BtgyB",
        "colab_type": "text"
      },
      "cell_type": "markdown",
      "source": [
        "Make the same length for all data by appending the <PAD>  0\n",
        "  "
      ]
    },
    {
      "metadata": {
        "id": "VZf7HocTuTIM",
        "colab_type": "code",
        "colab": {}
      },
      "cell_type": "code",
      "source": [
        "'''\n",
        "Build the model\n",
        "'''\n",
        "\n",
        "vocab_size = 10000\n",
        "\n",
        "model = keras.Sequential()\n",
        "model.add(keras.layers.Embedding(vocab_size, 16))\n",
        "model.add(keras.layers.GlobalAveragePoolingID())\n",
        "model.add(keras.layers.Dense(16, activation=tf.nn.relu))\n",
        "model.add(keras.layers.Dense(1, activation-tf.nn.sigmoid))\n",
        "\n",
        "model.summary()\n"
      ],
      "execution_count": 0,
      "outputs": []
    },
    {
      "metadata": {
        "id": "SgUFsq9YvIm8",
        "colab_type": "code",
        "colab": {}
      },
      "cell_type": "code",
      "source": [
        "'''\n",
        "Compile model\n",
        "'''\n",
        "\n",
        "model.compile(optimizer='adam',\n",
        "             loss='binary_crossentropy',\n",
        "             metrics=['accuracy'] \n",
        "             )"
      ],
      "execution_count": 0,
      "outputs": []
    },
    {
      "metadata": {
        "id": "QRUH002YxUSA",
        "colab_type": "code",
        "colab": {}
      },
      "cell_type": "code",
      "source": [
        "'''\n",
        "Create a validation set\n",
        "'''\n",
        "\n",
        "x_val = train_data[:10000]\n",
        "partial_x_train = train_data[10000:]\n",
        "\n",
        "y_val = train_labels[:10000]\n",
        "partial_y_train = train_labels[10000:]\n"
      ],
      "execution_count": 0,
      "outputs": []
    },
    {
      "metadata": {
        "id": "c45LmoThxyVN",
        "colab_type": "code",
        "colab": {}
      },
      "cell_type": "code",
      "source": [
        "'''\n",
        "train the model\n",
        "'''\n",
        "\n",
        "history = model.fit(partial_x_train,\n",
        "                   partial_y_train,\n",
        "                   epochs=30,\n",
        "                   batch_size=512,\n",
        "                   validation_data=(x_val,y_val),\n",
        "                   verbose=1\n",
        "                   )"
      ],
      "execution_count": 0,
      "outputs": []
    },
    {
      "metadata": {
        "id": "GWbZ4q-oyIUe",
        "colab_type": "code",
        "colab": {}
      },
      "cell_type": "code",
      "source": [
        "'''\n",
        "evaluate the model\n",
        "'''\n",
        "\n",
        "reesults = model.evaluate(test_data, test_labels)\n",
        "\n",
        "print(results)"
      ],
      "execution_count": 0,
      "outputs": []
    }
  ]
}